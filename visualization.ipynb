version https://git-lfs.github.com/spec/v1
oid sha256:d00082335ac2f866c9ba09a2b68ec63b55c6f9927bcf1d48e6236a23b7b1b131
size 54689049
