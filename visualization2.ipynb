version https://git-lfs.github.com/spec/v1
oid sha256:ccb2c987e6cd4fbc62657a51486f9dcc662384c96a45d1c49e369f4acaa1138e
size 43612467
